{
 "cells": [
  {
   "cell_type": "markdown",
   "id": "5ad452c1",
   "metadata": {},
   "source": [
    "### Lead Scoring Case Study"
   ]
  },
  {
   "cell_type": "markdown",
   "id": "d0cfebfc",
   "metadata": {},
   "source": [
    "#### Our Goals of the Case Study:\n",
    "\n",
    "1. To identify the hot leads , so that sales team can focus on the hot leads.\n",
    "2. Company require to build a model where we need to assign a lead score to each of the lead so that customer which having high score have high conversion chances. The score should be between 0 and 100.\n",
    "3. To get to know the which columns are most important and which is not important."
   ]
  },
  {
   "cell_type": "code",
   "execution_count": 1,
   "id": "31250ffd",
   "metadata": {},
   "outputs": [],
   "source": []
  },
  {
   "cell_type": "code",
   "execution_count": null,
   "id": "a774d278",
   "metadata": {},
   "outputs": [],
   "source": []
  },
  {
   "cell_type": "code",
   "execution_count": null,
   "id": "73afe3c8",
   "metadata": {},
   "outputs": [],
   "source": []
  }
 ],
 "metadata": {
  "kernelspec": {
   "display_name": "Python 3 (ipykernel)",
   "language": "python",
   "name": "python3"
  },
  "language_info": {
   "codemirror_mode": {
    "name": "ipython",
    "version": 3
   },
   "file_extension": ".py",
   "mimetype": "text/x-python",
   "name": "python",
   "nbconvert_exporter": "python",
   "pygments_lexer": "ipython3",
   "version": "3.9.13"
  }
 },
 "nbformat": 4,
 "nbformat_minor": 5
}
